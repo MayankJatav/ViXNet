{
 "cells": [
  {
   "cell_type": "code",
   "execution_count": null,
   "metadata": {
    "colab": {
     "base_uri": "https://localhost:8080/"
    },
    "executionInfo": {
     "elapsed": 22184,
     "status": "ok",
     "timestamp": 1716664906780,
     "user": {
      "displayName": "MAYANK JATAV",
      "userId": "06377763454835745476"
     },
     "user_tz": -330
    },
    "id": "maD7C0MfjvsO",
    "outputId": "67edfc0b-4cf2-4027-95cd-7083373b417c"
   },
   "outputs": [],
   "source": [
    "from google.colab import drive\n",
    "drive.mount('/content/drive')"
   ]
  },
  {
   "cell_type": "code",
   "execution_count": null,
   "metadata": {
    "colab": {
     "base_uri": "https://localhost:8080/"
    },
    "executionInfo": {
     "elapsed": 82130,
     "status": "ok",
     "timestamp": 1716664998513,
     "user": {
      "displayName": "MAYANK JATAV",
      "userId": "06377763454835745476"
     },
     "user_tz": -330
    },
    "id": "fA4xhvy5zUWO",
    "outputId": "9308dd7b-1560-49cd-a03a-ac1ec1c632a9"
   },
   "outputs": [],
   "source": [
    "!pip install timm"
   ]
  },
  {
   "cell_type": "code",
   "execution_count": null,
   "metadata": {
    "colab": {
     "base_uri": "https://localhost:8080/"
    },
    "executionInfo": {
     "elapsed": 6744,
     "status": "ok",
     "timestamp": 1716665005248,
     "user": {
      "displayName": "MAYANK JATAV",
      "userId": "06377763454835745476"
     },
     "user_tz": -330
    },
    "id": "NEluR6ZlGEq4",
    "outputId": "c0240ac3-9ddd-45f2-b576-ef09dbc47919"
   },
   "outputs": [],
   "source": [
    "!pip install patchify"
   ]
  },
  {
   "cell_type": "code",
   "execution_count": null,
   "metadata": {
    "colab": {
     "base_uri": "https://localhost:8080/"
    },
    "executionInfo": {
     "elapsed": 14791,
     "status": "ok",
     "timestamp": 1716665020031,
     "user": {
      "displayName": "MAYANK JATAV",
      "userId": "06377763454835745476"
     },
     "user_tz": -330
    },
    "id": "nZWvReFvHiDP",
    "outputId": "4a2b5d10-5881-497c-854f-de8ea0323a8a"
   },
   "outputs": [],
   "source": [
    "pip install lightning"
   ]
  },
  {
   "cell_type": "code",
   "execution_count": null,
   "metadata": {
    "executionInfo": {
     "elapsed": 9495,
     "status": "ok",
     "timestamp": 1716665029522,
     "user": {
      "displayName": "MAYANK JATAV",
      "userId": "06377763454835745476"
     },
     "user_tz": -330
    },
    "id": "DY_eQw66DsUh"
   },
   "outputs": [],
   "source": [
    "import torch\n",
    "import torchvision\n",
    "import torchvision.transforms as transforms\n",
    "import torch.nn as nn\n",
    "import torch.optim as optim\n",
    "import matplotlib\n",
    "from matplotlib import pyplot as plt\n",
    "from tqdm.auto import tqdm\n",
    "import time\n",
    "import os\n",
    "from patchify import patchify, unpatchify\n",
    "import numpy as np\n",
    "from PIL import Image\n",
    "from torch.utils.data import Dataset, random_split\n",
    "import timm\n",
    "import lightning as L"
   ]
  },
  {
   "cell_type": "code",
   "execution_count": null,
   "metadata": {
    "executionInfo": {
     "elapsed": 15,
     "status": "ok",
     "timestamp": 1716665029523,
     "user": {
      "displayName": "MAYANK JATAV",
      "userId": "06377763454835745476"
     },
     "user_tz": -330
    },
    "id": "eZ1gkof7FFiE"
   },
   "outputs": [],
   "source": [
    "transform = transforms.Compose([transforms.Resize(384),\n",
    "                                transforms.ToTensor()\n",
    "                                ])"
   ]
  },
  {
   "cell_type": "code",
   "execution_count": null,
   "metadata": {
    "executionInfo": {
     "elapsed": 108232,
     "status": "ok",
     "timestamp": 1716665137741,
     "user": {
      "displayName": "MAYANK JATAV",
      "userId": "06377763454835745476"
     },
     "user_tz": -330
    },
    "id": "15SZlG3DFMUC"
   },
   "outputs": [],
   "source": [
    "batch_size = 8\n",
    "fake_dir = '../Datasets/FF++/C23/Manipulated/DeepFake'\n",
    "real_dir = '../Datasets/FF++/C23/Original/Original_images/'\n",
    "\n",
    "class CustomImageDataset(Dataset):\n",
    "    def __init__(self, path, transform=None):\n",
    "        self.transform = transform\n",
    "        self.files = [os.path.join(path, f) for f in os.listdir(path)]\n",
    "\n",
    "    def __len__(self):\n",
    "        return len(self.files)\n",
    "\n",
    "    def __getitem__(self, idx):\n",
    "        file = self.files[idx]\n",
    "        image = Image.open(file)\n",
    "        label = 0.0 if \"Original\" in file else 1.0\n",
    "        if self.transform:\n",
    "            image = self.transform(image)\n",
    "        return image, label\n",
    "\n",
    "custom_fake_dataset = CustomImageDataset(fake_dir, transform=transform)\n",
    "\n",
    "total_samples = len(custom_fake_dataset)\n",
    "train_size = 2938 #int(0.7 * total_samples)\n",
    "val_size = 200 #int(0.2 * total_samples)\n",
    "test_size = 100 #total_samples - train_size - val_size\n",
    "rem_size =  total_samples - train_size - val_size - test_size\n",
    "\n",
    "fake_train_subset, fake_val_subset, fake_test_subset, _ = random_split(\n",
    "    custom_fake_dataset, [train_size, val_size, test_size, rem_size]\n",
    ")\n",
    "\n",
    "custom_real_dataset = CustomImageDataset(real_dir, transform=transform)\n",
    "\n",
    "total_samples = len(custom_real_dataset)\n",
    "train_size = 2938 # int(0.7 * total_samples)\n",
    "val_size = 200 # int(0.2 * total_samples)\n",
    "test_size = 100 # total_samples - train_size - val_size\n",
    "rem_size =  total_samples - train_size - val_size - test_size\n",
    "\n",
    "real_train_subset, real_val_subset, real_test_subset, _ = random_split(\n",
    "    custom_real_dataset, [train_size, val_size, test_size, rem_size]\n",
    ")\n",
    "\n",
    "train_dataset = torch.utils.data.ConcatDataset([fake_train_subset, real_train_subset])\n",
    "val_dataset = torch.utils.data.ConcatDataset([fake_val_subset, real_val_subset])\n",
    "test_dataset = torch.utils.data.ConcatDataset([fake_test_subset, real_test_subset])\n",
    "\n",
    "train_loader = torch.utils.data.DataLoader(train_dataset, batch_size=batch_size,\n",
    "                                             shuffle=True)\n",
    "val_loader = torch.utils.data.DataLoader(val_dataset, batch_size=batch_size,\n",
    "                                             shuffle=False)\n",
    "test_loader = torch.utils.data.DataLoader(test_dataset, batch_size=batch_size,\n",
    "                                             shuffle=False)"
   ]
  },
  {
   "cell_type": "code",
   "execution_count": null,
   "metadata": {
    "colab": {
     "base_uri": "https://localhost:8080/"
    },
    "executionInfo": {
     "elapsed": 31,
     "status": "ok",
     "timestamp": 1716665137742,
     "user": {
      "displayName": "MAYANK JATAV",
      "userId": "06377763454835745476"
     },
     "user_tz": -330
    },
    "id": "INGgDP0GrsWL",
    "outputId": "c9f81e11-1416-47cb-c228-d3059e5ca838"
   },
   "outputs": [],
   "source": [
    "print(\"Train Loader Length\", len(train_dataset))\n",
    "print(\"Validation Loader Length\", len(val_dataset))\n",
    "print(\"Test Loader Length\", len(test_dataset))"
   ]
  },
  {
   "cell_type": "code",
   "execution_count": null,
   "metadata": {
    "colab": {
     "base_uri": "https://localhost:8080/",
     "height": 539
    },
    "executionInfo": {
     "elapsed": 5456,
     "status": "ok",
     "timestamp": 1716665143194,
     "user": {
      "displayName": "MAYANK JATAV",
      "userId": "06377763454835745476"
     },
     "user_tz": -330
    },
    "id": "p8qdDaq2ry90",
    "outputId": "77ecdd71-b2ad-49de-f11e-b36afa4a0805"
   },
   "outputs": [],
   "source": [
    "# Display image and label.\n",
    "train_features, train_labels = next(iter(train_loader))\n",
    "print(f\"Feature batch shape: {train_features.size()}\")\n",
    "print(f\"Labels batch shape: {train_labels.size()}\")\n",
    "img = train_features[0].permute(1, 2, 0)\n",
    "label = train_labels[0]\n",
    "plt.imshow(img, cmap=\"gray\")\n",
    "plt.axis('off')\n",
    "plt.tight_layout()\n",
    "plt.show()\n",
    "print(f\"Label: {label}\")"
   ]
  },
  {
   "cell_type": "code",
   "execution_count": null,
   "metadata": {
    "executionInfo": {
     "elapsed": 15,
     "status": "ok",
     "timestamp": 1716665143195,
     "user": {
      "displayName": "MAYANK JATAV",
      "userId": "06377763454835745476"
     },
     "user_tz": -330
    },
    "id": "A9xaxGYegmRG"
   },
   "outputs": [],
   "source": [
    "xception_weight_path = '../Pretrained Weights/xception-43020ad28.pth'\n",
    "class Xception(nn.Module):\n",
    "  def __init__(self):\n",
    "        super(Xception, self).__init__()\n",
    "        # self.xception_model = tf.keras.applications.xception.Xception(\n",
    "        #     include_top=False,\n",
    "        #     weights='imagenet',\n",
    "        #     input_shape = (384, 384, 3)\n",
    "        # )\n",
    "        # self.global_avg_pool = tf.keras.layers.GlobalAveragePooling2D()\n",
    "        self.global_avg_pool = nn.AvgPool2d(12, 12)\n",
    "        self.xception_model = timm.create_model('xception', pretrained=False)\n",
    "        state_dict = torch.load(xception_weight_path)\n",
    "        self.xception_model.load_state_dict(state_dict)\n",
    "\n",
    "  def forward(self, input):\n",
    "        # x = input.permute(0, 2, 3, 1)\n",
    "        # x = tf.keras.applications.xception.preprocess_input(x)\n",
    "        # output = self.xception_model(x.numpy())\n",
    "        # output = self.global_avg_pool(output.numpy())\n",
    "        # return output.numpy()\n",
    "        output = self.xception_model.forward_features(input)\n",
    "        output = self.global_avg_pool(output)\n",
    "        return output"
   ]
  },
  {
   "cell_type": "code",
   "execution_count": null,
   "metadata": {
    "executionInfo": {
     "elapsed": 14,
     "status": "ok",
     "timestamp": 1716665143195,
     "user": {
      "displayName": "MAYANK JATAV",
      "userId": "06377763454835745476"
     },
     "user_tz": -330
    },
    "id": "cLJklY77pn69"
   },
   "outputs": [],
   "source": [
    "class PatchModule(nn.Module):\n",
    "  def __init__(self):\n",
    "    super(PatchModule, self).__init__()\n",
    "    self.conv = nn.ModuleList([\n",
    "            nn.ModuleList([\n",
    "                nn.Conv2d(in_channels=3, out_channels=3, kernel_size=3, stride=1, padding=1)\n",
    "                for j in range(24)\n",
    "            ])\n",
    "            for i in range(24)\n",
    "        ])\n",
    "\n",
    "  def extract_patches(self, img):\n",
    "    patch_size = 16\n",
    "    stride = 16\n",
    "    patches = img.unfold(2, patch_size, stride).unfold(3, patch_size, stride)\n",
    "    patches = patches.permute(2, 3, 0, 1, 4, 5).squeeze(axis=0)\n",
    "    return patches\n",
    "\n",
    "  def forward(self, x):\n",
    "    patches = self.extract_patches(x)\n",
    "    conv_patches = torch.zeros(24, 24, x.size(0), 3, 16, 16, device=x.device)\n",
    "    for i in range(patches.shape[0]):\n",
    "      for j in range(patches.shape[1]):\n",
    "        for batch_idx in range(patches.shape[2]):\n",
    "          conv_patches[i][j][batch_idx] = self.conv[i][j](patches[i][j][batch_idx])\n",
    "    patches = patches / (torch.max(patches) + 1e-6)\n",
    "    conv_patches = conv_patches / (torch.max(conv_patches) + 1e-6)\n",
    "    output_image = patches * conv_patches\n",
    "    output_image = output_image / (torch.max(output_image) + 1e-6)\n",
    "    return output_image"
   ]
  },
  {
   "cell_type": "code",
   "execution_count": null,
   "metadata": {
    "executionInfo": {
     "elapsed": 2024,
     "status": "ok",
     "timestamp": 1716665145205,
     "user": {
      "displayName": "MAYANK JATAV",
      "userId": "06377763454835745476"
     },
     "user_tz": -330
    },
    "id": "YjdSqMPGuy06"
   },
   "outputs": [],
   "source": [
    "pm = PatchModule()\n",
    "outp = pm(train_features)"
   ]
  },
  {
   "cell_type": "code",
   "execution_count": null,
   "metadata": {
    "colab": {
     "base_uri": "https://localhost:8080/",
     "height": 665
    },
    "executionInfo": {
     "elapsed": 10,
     "status": "ok",
     "timestamp": 1716665145206,
     "user": {
      "displayName": "MAYANK JATAV",
      "userId": "06377763454835745476"
     },
     "user_tz": -330
    },
    "id": "bPmcMZ7VnhA-",
    "outputId": "2ecafb68-f66a-4493-ecc9-c9da924ae3c6"
   },
   "outputs": [],
   "source": [
    "# Display the Self Attention Patched Images\n",
    "# Permute the tensor to bring batch and channel to the front\n",
    "tensor = outp.permute(2, 3, 0, 4, 1, 5)  # [batch, channel, patch_dim1, height, patch_dim2, width]\n",
    "\n",
    "# Reshape to combine patches into full images\n",
    "batch_size, channels, patch_dim1, height, patch_dim2, width = tensor.shape\n",
    "combined_images = tensor.reshape(batch_size, channels, patch_dim1 * height, patch_dim2 * width)\n",
    "\n",
    "# Display the images\n",
    "def show_images(images, custom_width=2, custom_height=2):\n",
    "    batch_size, channels, height, width = images.shape\n",
    "    rows, cols = 2, 4  # Two rows, four columns\n",
    "    fig, axes = plt.subplots(rows, cols, figsize=(8, 6))  # Set custom figure size\n",
    "\n",
    "    for i in range(rows):\n",
    "        for j in range(cols):\n",
    "            img = images[i * cols + j].permute(1, 2, 0).detach().numpy()  # [C, H, W] to [H, W, C]\n",
    "            axes[i, j].imshow(img)\n",
    "            axes[i, j].set_title(f\"Image {i * cols + j + 1}\")\n",
    "            axes[i, j].axis('off')\n",
    "\n",
    "    plt.tight_layout()  # Adjust spacing between subplots\n",
    "    plt.show()\n",
    "\n",
    "# Show the combined images\n",
    "show_images(combined_images)\n"
   ]
  },
  {
   "cell_type": "code",
   "execution_count": null,
   "metadata": {
    "executionInfo": {
     "elapsed": 5,
     "status": "ok",
     "timestamp": 1716665145206,
     "user": {
      "displayName": "MAYANK JATAV",
      "userId": "06377763454835745476"
     },
     "user_tz": -330
    },
    "id": "YkSxwrUFg9Ff"
   },
   "outputs": [],
   "source": [
    "vit_weight_path = '../Pretrained Weights/vit_small_patch16_384.augreg_in1k'\n",
    "class VIT_Encoder(nn.Module):\n",
    "  def __init__(self):\n",
    "    super(VIT_Encoder, self).__init__()\n",
    "    self.vit_model = timm.create_model('vit_small_patch16_384.augreg_in1k', pretrained=False)\n",
    "    state_dict = torch.load(vit_weight_path)\n",
    "    self.vit_model.load_state_dict(state_dict)\n",
    "\n",
    "  def forward(self, x):\n",
    "    output = self.vit_model.forward_features(x)\n",
    "    return output"
   ]
  },
  {
   "cell_type": "code",
   "execution_count": null,
   "metadata": {
    "executionInfo": {
     "elapsed": 4,
     "status": "ok",
     "timestamp": 1716665145206,
     "user": {
      "displayName": "MAYANK JATAV",
      "userId": "06377763454835745476"
     },
     "user_tz": -330
    },
    "id": "TofcESNXaepQ"
   },
   "outputs": [],
   "source": [
    "class Classification_Module(nn.Module):\n",
    "  def __init__(self):\n",
    "    super(Classification_Module, self).__init__()\n",
    "    self.model = nn.Sequential(\n",
    "        nn.Linear(223616, 512),\n",
    "        nn.ReLU(),\n",
    "        nn.Linear(512, 256),\n",
    "        nn.ReLU(),\n",
    "        nn.Linear(256, 128),\n",
    "        nn.ReLU(),\n",
    "        nn.Linear(128, 1),\n",
    "        nn.Softmax()\n",
    "    )\n",
    "\n",
    "  def forward(self, input):\n",
    "    return self.model(input)"
   ]
  },
  {
   "cell_type": "code",
   "execution_count": null,
   "metadata": {
    "executionInfo": {
     "elapsed": 4,
     "status": "ok",
     "timestamp": 1716665145206,
     "user": {
      "displayName": "MAYANK JATAV",
      "userId": "06377763454835745476"
     },
     "user_tz": -330
    },
    "id": "rzUJUFGKkT16"
   },
   "outputs": [],
   "source": [
    "class ViXNet(nn.Module):\n",
    "    def __init__(self):\n",
    "      super(ViXNet, self).__init__()\n",
    "      self.patch_module = PatchModule()\n",
    "      self.vit_encoder = VIT_Encoder()\n",
    "      self.xception = Xception()\n",
    "      self.classification = Classification_Module()\n",
    "\n",
    "    def combine_patches(self, patches):\n",
    "      tensor = patches.permute(2, 3, 0, 4, 1, 5)\n",
    "      batch_size, channels, patch_dim1, height, patch_dim2, width = tensor.shape\n",
    "      combined_images = tensor.reshape(batch_size, channels, patch_dim1 * height, patch_dim2 * width)\n",
    "      return combined_images\n",
    "\n",
    "    def forward(self, x):\n",
    "      patch_module_output = self.combine_patches(self.patch_module(x))\n",
    "      vit_output = torch.flatten(self.vit_encoder(patch_module_output), 1, 2)\n",
    "      xception_output = torch.flatten(self.xception(x), 1, 3)\n",
    "      output = torch.cat((\n",
    "          vit_output,\n",
    "          xception_output\n",
    "          ), dim=1)\n",
    "\n",
    "      output = self.classification(output)\n",
    "      return output"
   ]
  },
  {
   "cell_type": "code",
   "execution_count": null,
   "metadata": {
    "executionInfo": {
     "elapsed": 5,
     "status": "ok",
     "timestamp": 1716665145207,
     "user": {
      "displayName": "MAYANK JATAV",
      "userId": "06377763454835745476"
     },
     "user_tz": -330
    },
    "id": "74GioAXrMjHc"
   },
   "outputs": [],
   "source": [
    "class LitViXNet(L.LightningModule):\n",
    "    def __init__(self, vixnet):\n",
    "        super().__init__()\n",
    "        self.vixnet = vixnet\n",
    "\n",
    "    def training_step(self, batch, batch_idx):\n",
    "        images, labels = batch\n",
    "        labels = torch.unsqueeze(labels, 1)\n",
    "        outputs = self.vixnet(images)\n",
    "        loss =  nn.CrossEntropyLoss()(outputs, labels)\n",
    "        self.log(\"train_loss\", loss)\n",
    "        return loss\n",
    "\n",
    "    def configure_optimizers(self):\n",
    "        optimizer = optim.Adam(self.parameters(), lr=0.0001)\n",
    "        return optimizer"
   ]
  },
  {
   "cell_type": "code",
   "execution_count": null,
   "metadata": {
    "colab": {
     "base_uri": "https://localhost:8080/",
     "height": 1000,
     "referenced_widgets": [
      "96682f82e6b54ac788e13a0631abcefe",
      "e0d5288137034e3f976f768c15912aa2",
      "7dd43a22e7b1463bb25a75adc9d47a45",
      "845d215f38c945d8b4ac67d7b6be7632",
      "fe39d8f323a846e084d67c7dd37de417",
      "1bf7eec0d3d443eb9a52254f43c49afd",
      "0d5f81f2678c40519adcff8dc0ea8b8b",
      "47217da1783a421091336a41f5927329",
      "fc32750e5df846049654b3009ea09336",
      "3d89f0af878e4b1db07bfa1764d533b6",
      "b90be9ea96c741a3b19b033cc99d7629"
     ]
    },
    "executionInfo": {
     "elapsed": 5734,
     "status": "ok",
     "timestamp": 1716665151734,
     "user": {
      "displayName": "MAYANK JATAV",
      "userId": "06377763454835745476"
     },
     "user_tz": -330
    },
    "id": "cDJERcgLl8UI",
    "outputId": "098d4ae5-cd71-4afe-a06a-7e2e77b8a481"
   },
   "outputs": [],
   "source": [
    "vixnet = ViXNet()\n",
    "print(vixnet)\n",
    "total_params = sum(p.numel() for p in vixnet.parameters())\n",
    "print(f\"Number of parameters: {total_params}\")"
   ]
  },
  {
   "cell_type": "code",
   "execution_count": null,
   "metadata": {
    "executionInfo": {
     "elapsed": 5,
     "status": "ok",
     "timestamp": 1716665151735,
     "user": {
      "displayName": "MAYANK JATAV",
      "userId": "06377763454835745476"
     },
     "user_tz": -330
    },
    "id": "Gml4IwXTOvEE"
   },
   "outputs": [],
   "source": [
    "model = LitViXNet(vixnet)"
   ]
  },
  {
   "cell_type": "code",
   "execution_count": null,
   "metadata": {
    "colab": {
     "base_uri": "https://localhost:8080/",
     "height": 555,
     "referenced_widgets": [
      "a4b94ec45afc4be5be8bb1c4815ff577",
      "64176ee60d54496e8cf47a9ce5134441",
      "ae992c2ca94644f6958f81b71c54a69f",
      "24befbafc2524e538ae4c5994ac6b3cc",
      "b45774884f8d4ff792bf05bcee7a0e4b",
      "5a44377e400849a2ad73b0c4419b8e94",
      "41abc9e159894030a76742785f34beb2",
      "5ce39ee0704e482f8de04f24d191ec0a",
      "36c51fe98c1841fa87e5739beb964dd6",
      "7d9f4b3719c743239281f2bbd8df90bc",
      "e8f352c91bb04b60bd9f7ad785088089"
     ]
    },
    "executionInfo": {
     "elapsed": 75622,
     "status": "ok",
     "timestamp": 1716666132093,
     "user": {
      "displayName": "MAYANK JATAV",
      "userId": "06377763454835745476"
     },
     "user_tz": -330
    },
    "id": "TfehfYNrSWBr",
    "outputId": "e53baa35-c124-433a-f834-048f2d00bf6e"
   },
   "outputs": [],
   "source": [
    "trainer = L.Trainer(limit_train_batches=2, max_epochs=2, devices=1)\n",
    "trainer.fit(model=model, train_dataloaders=train_loader)"
   ]
  },
  {
   "cell_type": "code",
   "execution_count": null,
   "metadata": {
    "id": "xZzPDw4GXBzg"
   },
   "outputs": [],
   "source": [
    "plt.figure(figsize=(7, 7))\n",
    "plt.plot(\n",
    "    train_acc, color='green', linestyle='-',\n",
    "    label='train accuracy'\n",
    ")\n",
    "plt.plot(\n",
    "    valid_acc, color='blue', linestyle='-',\n",
    "    label='validataion accuracy'\n",
    ")\n",
    "plt.xlabel('Epochs')\n",
    "plt.ylabel('Accuracy')\n",
    "plt.legend()\n",
    "plt.savefig('/content/drive/MyDrive/accuracytl.png')\n",
    "plt.show()\n",
    "# loss plots\n",
    "plt.figure(figsize=(5, 5))\n",
    "plt.plot(\n",
    "    train_loss, color='orange', linestyle='-',\n",
    "    label='train loss'\n",
    ")\n",
    "plt.plot(\n",
    "    valid_loss, color='red', linestyle='-',\n",
    "    label='validataion loss'\n",
    ")\n",
    "plt.xlabel('Epochs')\n",
    "plt.ylabel('Loss')\n",
    "plt.legend()\n",
    "plt.savefig('/content/drive/MyDrive/losstl.png')\n",
    "plt.show()\n",
    "# save the final model\n",
    "save_path = 'model_res.pth'\n",
    "torch.save(model.state_dict(), save_path)\n",
    "print('MODEL SAVED...')"
   ]
  }
 ],
 "metadata": {
  "accelerator": "GPU",
  "colab": {
   "gpuType": "T4",
   "provenance": []
  },
  "kernelspec": {
   "display_name": "Python 3 (ipykernel)",
   "language": "python",
   "name": "python3"
  },
  "language_info": {
   "codemirror_mode": {
    "name": "ipython",
    "version": 3
   },
   "file_extension": ".py",
   "mimetype": "text/x-python",
   "name": "python",
   "nbconvert_exporter": "python",
   "pygments_lexer": "ipython3",
   "version": "3.8.10"
  },
  "widgets": {
   "application/vnd.jupyter.widget-state+json": {
    "0d5f81f2678c40519adcff8dc0ea8b8b": {
     "model_module": "@jupyter-widgets/controls",
     "model_module_version": "1.5.0",
     "model_name": "DescriptionStyleModel",
     "state": {
      "_model_module": "@jupyter-widgets/controls",
      "_model_module_version": "1.5.0",
      "_model_name": "DescriptionStyleModel",
      "_view_count": null,
      "_view_module": "@jupyter-widgets/base",
      "_view_module_version": "1.2.0",
      "_view_name": "StyleView",
      "description_width": ""
     }
    },
    "1bf7eec0d3d443eb9a52254f43c49afd": {
     "model_module": "@jupyter-widgets/base",
     "model_module_version": "1.2.0",
     "model_name": "LayoutModel",
     "state": {
      "_model_module": "@jupyter-widgets/base",
      "_model_module_version": "1.2.0",
      "_model_name": "LayoutModel",
      "_view_count": null,
      "_view_module": "@jupyter-widgets/base",
      "_view_module_version": "1.2.0",
      "_view_name": "LayoutView",
      "align_content": null,
      "align_items": null,
      "align_self": null,
      "border": null,
      "bottom": null,
      "display": null,
      "flex": null,
      "flex_flow": null,
      "grid_area": null,
      "grid_auto_columns": null,
      "grid_auto_flow": null,
      "grid_auto_rows": null,
      "grid_column": null,
      "grid_gap": null,
      "grid_row": null,
      "grid_template_areas": null,
      "grid_template_columns": null,
      "grid_template_rows": null,
      "height": null,
      "justify_content": null,
      "justify_items": null,
      "left": null,
      "margin": null,
      "max_height": null,
      "max_width": null,
      "min_height": null,
      "min_width": null,
      "object_fit": null,
      "object_position": null,
      "order": null,
      "overflow": null,
      "overflow_x": null,
      "overflow_y": null,
      "padding": null,
      "right": null,
      "top": null,
      "visibility": null,
      "width": null
     }
    },
    "24befbafc2524e538ae4c5994ac6b3cc": {
     "model_module": "@jupyter-widgets/controls",
     "model_module_version": "1.5.0",
     "model_name": "HTMLModel",
     "state": {
      "_dom_classes": [],
      "_model_module": "@jupyter-widgets/controls",
      "_model_module_version": "1.5.0",
      "_model_name": "HTMLModel",
      "_view_count": null,
      "_view_module": "@jupyter-widgets/controls",
      "_view_module_version": "1.5.0",
      "_view_name": "HTMLView",
      "description": "",
      "description_tooltip": null,
      "layout": "IPY_MODEL_7d9f4b3719c743239281f2bbd8df90bc",
      "placeholder": "​",
      "style": "IPY_MODEL_e8f352c91bb04b60bd9f7ad785088089",
      "value": " 2/2 [00:32&lt;00:00,  0.06it/s, v_num=2]"
     }
    },
    "36c51fe98c1841fa87e5739beb964dd6": {
     "model_module": "@jupyter-widgets/controls",
     "model_module_version": "1.5.0",
     "model_name": "ProgressStyleModel",
     "state": {
      "_model_module": "@jupyter-widgets/controls",
      "_model_module_version": "1.5.0",
      "_model_name": "ProgressStyleModel",
      "_view_count": null,
      "_view_module": "@jupyter-widgets/base",
      "_view_module_version": "1.2.0",
      "_view_name": "StyleView",
      "bar_color": null,
      "description_width": ""
     }
    },
    "3d89f0af878e4b1db07bfa1764d533b6": {
     "model_module": "@jupyter-widgets/base",
     "model_module_version": "1.2.0",
     "model_name": "LayoutModel",
     "state": {
      "_model_module": "@jupyter-widgets/base",
      "_model_module_version": "1.2.0",
      "_model_name": "LayoutModel",
      "_view_count": null,
      "_view_module": "@jupyter-widgets/base",
      "_view_module_version": "1.2.0",
      "_view_name": "LayoutView",
      "align_content": null,
      "align_items": null,
      "align_self": null,
      "border": null,
      "bottom": null,
      "display": null,
      "flex": null,
      "flex_flow": null,
      "grid_area": null,
      "grid_auto_columns": null,
      "grid_auto_flow": null,
      "grid_auto_rows": null,
      "grid_column": null,
      "grid_gap": null,
      "grid_row": null,
      "grid_template_areas": null,
      "grid_template_columns": null,
      "grid_template_rows": null,
      "height": null,
      "justify_content": null,
      "justify_items": null,
      "left": null,
      "margin": null,
      "max_height": null,
      "max_width": null,
      "min_height": null,
      "min_width": null,
      "object_fit": null,
      "object_position": null,
      "order": null,
      "overflow": null,
      "overflow_x": null,
      "overflow_y": null,
      "padding": null,
      "right": null,
      "top": null,
      "visibility": null,
      "width": null
     }
    },
    "41abc9e159894030a76742785f34beb2": {
     "model_module": "@jupyter-widgets/controls",
     "model_module_version": "1.5.0",
     "model_name": "DescriptionStyleModel",
     "state": {
      "_model_module": "@jupyter-widgets/controls",
      "_model_module_version": "1.5.0",
      "_model_name": "DescriptionStyleModel",
      "_view_count": null,
      "_view_module": "@jupyter-widgets/base",
      "_view_module_version": "1.2.0",
      "_view_name": "StyleView",
      "description_width": ""
     }
    },
    "47217da1783a421091336a41f5927329": {
     "model_module": "@jupyter-widgets/base",
     "model_module_version": "1.2.0",
     "model_name": "LayoutModel",
     "state": {
      "_model_module": "@jupyter-widgets/base",
      "_model_module_version": "1.2.0",
      "_model_name": "LayoutModel",
      "_view_count": null,
      "_view_module": "@jupyter-widgets/base",
      "_view_module_version": "1.2.0",
      "_view_name": "LayoutView",
      "align_content": null,
      "align_items": null,
      "align_self": null,
      "border": null,
      "bottom": null,
      "display": null,
      "flex": null,
      "flex_flow": null,
      "grid_area": null,
      "grid_auto_columns": null,
      "grid_auto_flow": null,
      "grid_auto_rows": null,
      "grid_column": null,
      "grid_gap": null,
      "grid_row": null,
      "grid_template_areas": null,
      "grid_template_columns": null,
      "grid_template_rows": null,
      "height": null,
      "justify_content": null,
      "justify_items": null,
      "left": null,
      "margin": null,
      "max_height": null,
      "max_width": null,
      "min_height": null,
      "min_width": null,
      "object_fit": null,
      "object_position": null,
      "order": null,
      "overflow": null,
      "overflow_x": null,
      "overflow_y": null,
      "padding": null,
      "right": null,
      "top": null,
      "visibility": null,
      "width": null
     }
    },
    "5a44377e400849a2ad73b0c4419b8e94": {
     "model_module": "@jupyter-widgets/base",
     "model_module_version": "1.2.0",
     "model_name": "LayoutModel",
     "state": {
      "_model_module": "@jupyter-widgets/base",
      "_model_module_version": "1.2.0",
      "_model_name": "LayoutModel",
      "_view_count": null,
      "_view_module": "@jupyter-widgets/base",
      "_view_module_version": "1.2.0",
      "_view_name": "LayoutView",
      "align_content": null,
      "align_items": null,
      "align_self": null,
      "border": null,
      "bottom": null,
      "display": null,
      "flex": null,
      "flex_flow": null,
      "grid_area": null,
      "grid_auto_columns": null,
      "grid_auto_flow": null,
      "grid_auto_rows": null,
      "grid_column": null,
      "grid_gap": null,
      "grid_row": null,
      "grid_template_areas": null,
      "grid_template_columns": null,
      "grid_template_rows": null,
      "height": null,
      "justify_content": null,
      "justify_items": null,
      "left": null,
      "margin": null,
      "max_height": null,
      "max_width": null,
      "min_height": null,
      "min_width": null,
      "object_fit": null,
      "object_position": null,
      "order": null,
      "overflow": null,
      "overflow_x": null,
      "overflow_y": null,
      "padding": null,
      "right": null,
      "top": null,
      "visibility": null,
      "width": null
     }
    },
    "5ce39ee0704e482f8de04f24d191ec0a": {
     "model_module": "@jupyter-widgets/base",
     "model_module_version": "1.2.0",
     "model_name": "LayoutModel",
     "state": {
      "_model_module": "@jupyter-widgets/base",
      "_model_module_version": "1.2.0",
      "_model_name": "LayoutModel",
      "_view_count": null,
      "_view_module": "@jupyter-widgets/base",
      "_view_module_version": "1.2.0",
      "_view_name": "LayoutView",
      "align_content": null,
      "align_items": null,
      "align_self": null,
      "border": null,
      "bottom": null,
      "display": null,
      "flex": "2",
      "flex_flow": null,
      "grid_area": null,
      "grid_auto_columns": null,
      "grid_auto_flow": null,
      "grid_auto_rows": null,
      "grid_column": null,
      "grid_gap": null,
      "grid_row": null,
      "grid_template_areas": null,
      "grid_template_columns": null,
      "grid_template_rows": null,
      "height": null,
      "justify_content": null,
      "justify_items": null,
      "left": null,
      "margin": null,
      "max_height": null,
      "max_width": null,
      "min_height": null,
      "min_width": null,
      "object_fit": null,
      "object_position": null,
      "order": null,
      "overflow": null,
      "overflow_x": null,
      "overflow_y": null,
      "padding": null,
      "right": null,
      "top": null,
      "visibility": null,
      "width": null
     }
    },
    "64176ee60d54496e8cf47a9ce5134441": {
     "model_module": "@jupyter-widgets/controls",
     "model_module_version": "1.5.0",
     "model_name": "HTMLModel",
     "state": {
      "_dom_classes": [],
      "_model_module": "@jupyter-widgets/controls",
      "_model_module_version": "1.5.0",
      "_model_name": "HTMLModel",
      "_view_count": null,
      "_view_module": "@jupyter-widgets/controls",
      "_view_module_version": "1.5.0",
      "_view_name": "HTMLView",
      "description": "",
      "description_tooltip": null,
      "layout": "IPY_MODEL_5a44377e400849a2ad73b0c4419b8e94",
      "placeholder": "​",
      "style": "IPY_MODEL_41abc9e159894030a76742785f34beb2",
      "value": "Epoch 1: 100%"
     }
    },
    "7d9f4b3719c743239281f2bbd8df90bc": {
     "model_module": "@jupyter-widgets/base",
     "model_module_version": "1.2.0",
     "model_name": "LayoutModel",
     "state": {
      "_model_module": "@jupyter-widgets/base",
      "_model_module_version": "1.2.0",
      "_model_name": "LayoutModel",
      "_view_count": null,
      "_view_module": "@jupyter-widgets/base",
      "_view_module_version": "1.2.0",
      "_view_name": "LayoutView",
      "align_content": null,
      "align_items": null,
      "align_self": null,
      "border": null,
      "bottom": null,
      "display": null,
      "flex": null,
      "flex_flow": null,
      "grid_area": null,
      "grid_auto_columns": null,
      "grid_auto_flow": null,
      "grid_auto_rows": null,
      "grid_column": null,
      "grid_gap": null,
      "grid_row": null,
      "grid_template_areas": null,
      "grid_template_columns": null,
      "grid_template_rows": null,
      "height": null,
      "justify_content": null,
      "justify_items": null,
      "left": null,
      "margin": null,
      "max_height": null,
      "max_width": null,
      "min_height": null,
      "min_width": null,
      "object_fit": null,
      "object_position": null,
      "order": null,
      "overflow": null,
      "overflow_x": null,
      "overflow_y": null,
      "padding": null,
      "right": null,
      "top": null,
      "visibility": null,
      "width": null
     }
    },
    "7dd43a22e7b1463bb25a75adc9d47a45": {
     "model_module": "@jupyter-widgets/controls",
     "model_module_version": "1.5.0",
     "model_name": "FloatProgressModel",
     "state": {
      "_dom_classes": [],
      "_model_module": "@jupyter-widgets/controls",
      "_model_module_version": "1.5.0",
      "_model_name": "FloatProgressModel",
      "_view_count": null,
      "_view_module": "@jupyter-widgets/controls",
      "_view_module_version": "1.5.0",
      "_view_name": "ProgressView",
      "bar_style": "success",
      "description": "",
      "description_tooltip": null,
      "layout": "IPY_MODEL_47217da1783a421091336a41f5927329",
      "max": 88800176,
      "min": 0,
      "orientation": "horizontal",
      "style": "IPY_MODEL_fc32750e5df846049654b3009ea09336",
      "value": 88800176
     }
    },
    "845d215f38c945d8b4ac67d7b6be7632": {
     "model_module": "@jupyter-widgets/controls",
     "model_module_version": "1.5.0",
     "model_name": "HTMLModel",
     "state": {
      "_dom_classes": [],
      "_model_module": "@jupyter-widgets/controls",
      "_model_module_version": "1.5.0",
      "_model_name": "HTMLModel",
      "_view_count": null,
      "_view_module": "@jupyter-widgets/controls",
      "_view_module_version": "1.5.0",
      "_view_name": "HTMLView",
      "description": "",
      "description_tooltip": null,
      "layout": "IPY_MODEL_3d89f0af878e4b1db07bfa1764d533b6",
      "placeholder": "​",
      "style": "IPY_MODEL_b90be9ea96c741a3b19b033cc99d7629",
      "value": " 88.8M/88.8M [00:01&lt;00:00, 100MB/s]"
     }
    },
    "96682f82e6b54ac788e13a0631abcefe": {
     "model_module": "@jupyter-widgets/controls",
     "model_module_version": "1.5.0",
     "model_name": "HBoxModel",
     "state": {
      "_dom_classes": [],
      "_model_module": "@jupyter-widgets/controls",
      "_model_module_version": "1.5.0",
      "_model_name": "HBoxModel",
      "_view_count": null,
      "_view_module": "@jupyter-widgets/controls",
      "_view_module_version": "1.5.0",
      "_view_name": "HBoxView",
      "box_style": "",
      "children": [
       "IPY_MODEL_e0d5288137034e3f976f768c15912aa2",
       "IPY_MODEL_7dd43a22e7b1463bb25a75adc9d47a45",
       "IPY_MODEL_845d215f38c945d8b4ac67d7b6be7632"
      ],
      "layout": "IPY_MODEL_fe39d8f323a846e084d67c7dd37de417"
     }
    },
    "a4b94ec45afc4be5be8bb1c4815ff577": {
     "model_module": "@jupyter-widgets/controls",
     "model_module_version": "1.5.0",
     "model_name": "HBoxModel",
     "state": {
      "_dom_classes": [],
      "_model_module": "@jupyter-widgets/controls",
      "_model_module_version": "1.5.0",
      "_model_name": "HBoxModel",
      "_view_count": null,
      "_view_module": "@jupyter-widgets/controls",
      "_view_module_version": "1.5.0",
      "_view_name": "HBoxView",
      "box_style": "",
      "children": [
       "IPY_MODEL_64176ee60d54496e8cf47a9ce5134441",
       "IPY_MODEL_ae992c2ca94644f6958f81b71c54a69f",
       "IPY_MODEL_24befbafc2524e538ae4c5994ac6b3cc"
      ],
      "layout": "IPY_MODEL_b45774884f8d4ff792bf05bcee7a0e4b"
     }
    },
    "ae992c2ca94644f6958f81b71c54a69f": {
     "model_module": "@jupyter-widgets/controls",
     "model_module_version": "1.5.0",
     "model_name": "FloatProgressModel",
     "state": {
      "_dom_classes": [],
      "_model_module": "@jupyter-widgets/controls",
      "_model_module_version": "1.5.0",
      "_model_name": "FloatProgressModel",
      "_view_count": null,
      "_view_module": "@jupyter-widgets/controls",
      "_view_module_version": "1.5.0",
      "_view_name": "ProgressView",
      "bar_style": "success",
      "description": "",
      "description_tooltip": null,
      "layout": "IPY_MODEL_5ce39ee0704e482f8de04f24d191ec0a",
      "max": 2,
      "min": 0,
      "orientation": "horizontal",
      "style": "IPY_MODEL_36c51fe98c1841fa87e5739beb964dd6",
      "value": 2
     }
    },
    "b45774884f8d4ff792bf05bcee7a0e4b": {
     "model_module": "@jupyter-widgets/base",
     "model_module_version": "1.2.0",
     "model_name": "LayoutModel",
     "state": {
      "_model_module": "@jupyter-widgets/base",
      "_model_module_version": "1.2.0",
      "_model_name": "LayoutModel",
      "_view_count": null,
      "_view_module": "@jupyter-widgets/base",
      "_view_module_version": "1.2.0",
      "_view_name": "LayoutView",
      "align_content": null,
      "align_items": null,
      "align_self": null,
      "border": null,
      "bottom": null,
      "display": "inline-flex",
      "flex": null,
      "flex_flow": "row wrap",
      "grid_area": null,
      "grid_auto_columns": null,
      "grid_auto_flow": null,
      "grid_auto_rows": null,
      "grid_column": null,
      "grid_gap": null,
      "grid_row": null,
      "grid_template_areas": null,
      "grid_template_columns": null,
      "grid_template_rows": null,
      "height": null,
      "justify_content": null,
      "justify_items": null,
      "left": null,
      "margin": null,
      "max_height": null,
      "max_width": null,
      "min_height": null,
      "min_width": null,
      "object_fit": null,
      "object_position": null,
      "order": null,
      "overflow": null,
      "overflow_x": null,
      "overflow_y": null,
      "padding": null,
      "right": null,
      "top": null,
      "visibility": null,
      "width": "100%"
     }
    },
    "b90be9ea96c741a3b19b033cc99d7629": {
     "model_module": "@jupyter-widgets/controls",
     "model_module_version": "1.5.0",
     "model_name": "DescriptionStyleModel",
     "state": {
      "_model_module": "@jupyter-widgets/controls",
      "_model_module_version": "1.5.0",
      "_model_name": "DescriptionStyleModel",
      "_view_count": null,
      "_view_module": "@jupyter-widgets/base",
      "_view_module_version": "1.2.0",
      "_view_name": "StyleView",
      "description_width": ""
     }
    },
    "e0d5288137034e3f976f768c15912aa2": {
     "model_module": "@jupyter-widgets/controls",
     "model_module_version": "1.5.0",
     "model_name": "HTMLModel",
     "state": {
      "_dom_classes": [],
      "_model_module": "@jupyter-widgets/controls",
      "_model_module_version": "1.5.0",
      "_model_name": "HTMLModel",
      "_view_count": null,
      "_view_module": "@jupyter-widgets/controls",
      "_view_module_version": "1.5.0",
      "_view_name": "HTMLView",
      "description": "",
      "description_tooltip": null,
      "layout": "IPY_MODEL_1bf7eec0d3d443eb9a52254f43c49afd",
      "placeholder": "​",
      "style": "IPY_MODEL_0d5f81f2678c40519adcff8dc0ea8b8b",
      "value": "model.safetensors: 100%"
     }
    },
    "e8f352c91bb04b60bd9f7ad785088089": {
     "model_module": "@jupyter-widgets/controls",
     "model_module_version": "1.5.0",
     "model_name": "DescriptionStyleModel",
     "state": {
      "_model_module": "@jupyter-widgets/controls",
      "_model_module_version": "1.5.0",
      "_model_name": "DescriptionStyleModel",
      "_view_count": null,
      "_view_module": "@jupyter-widgets/base",
      "_view_module_version": "1.2.0",
      "_view_name": "StyleView",
      "description_width": ""
     }
    },
    "fc32750e5df846049654b3009ea09336": {
     "model_module": "@jupyter-widgets/controls",
     "model_module_version": "1.5.0",
     "model_name": "ProgressStyleModel",
     "state": {
      "_model_module": "@jupyter-widgets/controls",
      "_model_module_version": "1.5.0",
      "_model_name": "ProgressStyleModel",
      "_view_count": null,
      "_view_module": "@jupyter-widgets/base",
      "_view_module_version": "1.2.0",
      "_view_name": "StyleView",
      "bar_color": null,
      "description_width": ""
     }
    },
    "fe39d8f323a846e084d67c7dd37de417": {
     "model_module": "@jupyter-widgets/base",
     "model_module_version": "1.2.0",
     "model_name": "LayoutModel",
     "state": {
      "_model_module": "@jupyter-widgets/base",
      "_model_module_version": "1.2.0",
      "_model_name": "LayoutModel",
      "_view_count": null,
      "_view_module": "@jupyter-widgets/base",
      "_view_module_version": "1.2.0",
      "_view_name": "LayoutView",
      "align_content": null,
      "align_items": null,
      "align_self": null,
      "border": null,
      "bottom": null,
      "display": null,
      "flex": null,
      "flex_flow": null,
      "grid_area": null,
      "grid_auto_columns": null,
      "grid_auto_flow": null,
      "grid_auto_rows": null,
      "grid_column": null,
      "grid_gap": null,
      "grid_row": null,
      "grid_template_areas": null,
      "grid_template_columns": null,
      "grid_template_rows": null,
      "height": null,
      "justify_content": null,
      "justify_items": null,
      "left": null,
      "margin": null,
      "max_height": null,
      "max_width": null,
      "min_height": null,
      "min_width": null,
      "object_fit": null,
      "object_position": null,
      "order": null,
      "overflow": null,
      "overflow_x": null,
      "overflow_y": null,
      "padding": null,
      "right": null,
      "top": null,
      "visibility": null,
      "width": null
     }
    }
   }
  }
 },
 "nbformat": 4,
 "nbformat_minor": 1
}
